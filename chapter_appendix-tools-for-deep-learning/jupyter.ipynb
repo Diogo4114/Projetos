{
  "cells": [
    {
      "cell_type": "markdown",
      "id": "31d9a4c9",
      "metadata": {
        "origin_pos": 0,
        "id": "31d9a4c9"
      },
      "source": [
        "# Using Jupyter Notebooks\n",
        ":label:`sec_jupyter`\n",
        "\n",
        "\n",
        "This section describes how to edit and run the code\n",
        "in each section of this book\n",
        "using the Jupyter Notebook. Make sure you have\n",
        "installed Jupyter and downloaded the\n",
        "code as described in\n",
        ":ref:`chap_installation`.\n",
        "If you want to know more about Jupyter see the excellent tutorial in\n",
        "their [documentation](https://jupyter.readthedocs.io/en/latest/).\n",
        "\n",
        "\n",
        "## Editing and Running the Code Locally\n",
        "\n",
        "Suppose that the local path of the book's code is `xx/yy/d2l-en/`. Use the shell to change the directory to this path (`cd xx/yy/d2l-en`) and run the command `jupyter notebook`. If your browser does not do this automatically, open http://localhost:8888 and you will see the interface of Jupyter and all the folders containing the code of the book, as shown in :numref:`fig_jupyter00`.\n",
        "\n",
        "![The folders containing the code of this book.](https://github.com/d2l-ai/d2l-en-colab/blob/master/img/jupyter00.png?raw=1)\n",
        ":width:`600px`\n",
        ":label:`fig_jupyter00`\n",
        "\n",
        "\n",
        "You can access the notebook files by clicking on the folder displayed on the webpage.\n",
        "They usually have the suffix \".ipynb\".\n",
        "For the sake of brevity, we create a temporary \"test.ipynb\" file.\n",
        "The content displayed after you click it is\n",
        "shown in :numref:`fig_jupyter01`.\n",
        "This notebook includes a markdown cell and a code cell. The content in the markdown cell includes \"This Is a Title\" and \"This is text.\".\n",
        "The code cell contains two lines of Python code.\n",
        "\n",
        "![Markdown and code cells in the \"text.ipynb\" file.](https://github.com/d2l-ai/d2l-en-colab/blob/master/img/jupyter01.png?raw=1)\n",
        ":width:`600px`\n",
        ":label:`fig_jupyter01`\n",
        "\n",
        "\n",
        "Double click on the markdown cell to enter edit mode.\n",
        "Add a new text string \"Hello world.\" at the end of the cell, as shown in :numref:`fig_jupyter02`.\n",
        "\n",
        "![Edit the markdown cell.](https://github.com/d2l-ai/d2l-en-colab/blob/master/img/jupyter02.png?raw=1)\n",
        ":width:`600px`\n",
        ":label:`fig_jupyter02`\n",
        "\n",
        "\n",
        "As demonstrated in :numref:`fig_jupyter03`,\n",
        "click \"Cell\" $\\rightarrow$ \"Run Cells\" in the menu bar to run the edited cell.\n",
        "\n",
        "![Run the cell.](https://github.com/d2l-ai/d2l-en-colab/blob/master/img/jupyter03.png?raw=1)\n",
        ":width:`600px`\n",
        ":label:`fig_jupyter03`\n",
        "\n",
        "After running, the markdown cell is shown in :numref:`fig_jupyter04`.\n",
        "\n",
        "![The markdown cell after running.](https://github.com/d2l-ai/d2l-en-colab/blob/master/img/jupyter04.png?raw=1)\n",
        ":width:`600px`\n",
        ":label:`fig_jupyter04`\n",
        "\n",
        "\n",
        "Next, click on the code cell. Multiply the elements by 2 after the last line of code, as shown in :numref:`fig_jupyter05`.\n",
        "\n",
        "![Edit the code cell.](https://github.com/d2l-ai/d2l-en-colab/blob/master/img/jupyter05.png?raw=1)\n",
        ":width:`600px`\n",
        ":label:`fig_jupyter05`\n",
        "\n",
        "\n",
        "You can also run the cell with a shortcut (\"Ctrl + Enter\" by default) and obtain the output result from :numref:`fig_jupyter06`.\n",
        "\n",
        "![Run the code cell to obtain the output.](https://github.com/d2l-ai/d2l-en-colab/blob/master/img/jupyter06.png?raw=1)\n",
        ":width:`600px`\n",
        ":label:`fig_jupyter06`\n",
        "\n",
        "\n",
        "When a notebook contains more cells, we can click \"Kernel\" $\\rightarrow$ \"Restart & Run All\" in the menu bar to run all the cells in the entire notebook. By clicking \"Help\" $\\rightarrow$ \"Edit Keyboard Shortcuts\" in the menu bar, you can edit the shortcuts according to your preferences.\n",
        "\n",
        "## Advanced Options\n",
        "\n",
        "Beyond local editing two things are quite important: editing the notebooks in the markdown format and running Jupyter remotely.\n",
        "The latter matters when we want to run the code on a faster server.\n",
        "The former matters since Jupyter's native ipynb format stores a lot of auxiliary data that is\n",
        "irrelevant to the content,\n",
        "mostly related to how and where the code is run.\n",
        "This is confusing for Git, making\n",
        "reviewing contributions very difficult.\n",
        "Fortunately there is an alternative---native editing in the markdown format.\n",
        "\n",
        "### Markdown Files in Jupyter\n",
        "\n",
        "If you wish to contribute to the content of this book, you need to modify the\n",
        "source file (md file, not ipynb file) on GitHub.\n",
        "Using the notedown plugin we\n",
        "can modify notebooks in the md format directly in Jupyter.\n",
        "\n",
        "\n",
        "First, install the notedown plugin, run the Jupyter Notebook, and load the plugin:\n",
        "\n",
        "```\n",
        "pip install d2l-notedown  # You may need to uninstall the original notedown.\n",
        "jupyter notebook --NotebookApp.contents_manager_class='notedown.NotedownContentsManager'\n",
        "```\n",
        "\n",
        "You may also turn on the notedown plugin by default whenever you run the Jupyter Notebook.\n",
        "First, generate a Jupyter Notebook configuration file (if it has already been generated, you can skip this step).\n",
        "\n",
        "```\n",
        "jupyter notebook --generate-config\n",
        "```\n",
        "\n",
        "Then, add the following line to the end of the Jupyter Notebook configuration file (for Linux or macOS, usually in the path `~/.jupyter/jupyter_notebook_config.py`):\n",
        "\n",
        "```\n",
        "c.NotebookApp.contents_manager_class = 'notedown.NotedownContentsManager'\n",
        "```\n",
        "\n",
        "After that, you only need to run the `jupyter notebook` command to turn on the notedown plugin by default.\n",
        "\n",
        "### Running Jupyter Notebooks on a Remote Server\n",
        "\n",
        "Sometimes, you may want to run Jupyter notebooks on a remote server and access it through a browser on your local computer. If Linux or macOS is installed on your local machine (Windows can also support this function through third-party software such as PuTTY), you can use port forwarding:\n",
        "\n",
        "```\n",
        "ssh myserver -L 8888:localhost:8888\n",
        "```\n",
        "\n",
        "The above string `myserver` is the address of the remote server.\n",
        "Then we can use http://localhost:8888 to access the remote server `myserver` that runs Jupyter notebooks. We will detail on how to run Jupyter notebooks on AWS instances\n",
        "later in this appendix.\n",
        "\n",
        "### Timing\n",
        "\n",
        "We can use the `ExecuteTime` plugin to time the execution of each code cell in Jupyter notebooks.\n",
        "Use the following commands to install the plugin:\n",
        "\n",
        "```\n",
        "pip install jupyter_contrib_nbextensions\n",
        "jupyter contrib nbextension install --user\n",
        "jupyter nbextension enable execute_time/ExecuteTime\n",
        "```\n",
        "\n",
        "## Summary\n",
        "\n",
        "* Using the Jupyter Notebook tool, we can edit, run, and contribute to each section of the book.\n",
        "* We can run Jupyter notebooks on remote servers using port forwarding.\n",
        "\n",
        "\n",
        "## Exercises\n",
        "\n",
        "1. Edit and run the code in this book with the Jupyter Notebook on your local machine.\n",
        "1. Edit and run the code in this book with the Jupyter Notebook *remotely* via port forwarding.\n",
        "1. Compare the running time of the operations $\\mathbf{A}^\\top \\mathbf{B}$ and $\\mathbf{A} \\mathbf{B}$ for two square matrices in $\\mathbb{R}^{1024 \\times 1024}$. Which one is faster?\n",
        "\n",
        "\n",
        "[Discussions](https://discuss.d2l.ai/t/421)\n"
      ]
    },
    {
      "cell_type": "markdown",
      "source": [
        "Operadores logicos\n",
        "And"
      ],
      "metadata": {
        "id": "q3VZWcoSmKM5"
      },
      "id": "q3VZWcoSmKM5"
    },
    {
      "cell_type": "code",
      "source": [
        "print(True and True) #True o and resulta em true com todas as opçoes sendo true"
      ],
      "metadata": {
        "id": "pwXfIBXQlH-v",
        "outputId": "c6d57c2f-7b28-47be-e529-27e6f83e4077",
        "colab": {
          "base_uri": "https://localhost:8080/"
        }
      },
      "id": "pwXfIBXQlH-v",
      "execution_count": 2,
      "outputs": [
        {
          "output_type": "stream",
          "name": "stdout",
          "text": [
            "True\n"
          ]
        }
      ]
    },
    {
      "cell_type": "code",
      "source": [
        "print(True and False) #False se um dos paramnetros for falso o resultado e False"
      ],
      "metadata": {
        "id": "KrrT1DRzlkqs",
        "outputId": "5c75f61a-2a40-441f-f7c0-f521c0d2e2dd",
        "colab": {
          "base_uri": "https://localhost:8080/"
        }
      },
      "id": "KrrT1DRzlkqs",
      "execution_count": 3,
      "outputs": [
        {
          "output_type": "stream",
          "name": "stdout",
          "text": [
            "False\n"
          ]
        }
      ]
    },
    {
      "cell_type": "code",
      "source": [
        "print(False and True) #False"
      ],
      "metadata": {
        "id": "EbVpgGJ0l5cO",
        "outputId": "b01f7ac3-f1ae-4026-a18e-53511741f767",
        "colab": {
          "base_uri": "https://localhost:8080/"
        }
      },
      "id": "EbVpgGJ0l5cO",
      "execution_count": 4,
      "outputs": [
        {
          "output_type": "stream",
          "name": "stdout",
          "text": [
            "False\n"
          ]
        }
      ]
    },
    {
      "cell_type": "code",
      "source": [
        "print(False and False) #false #Mesmo sendo iguais um precisa ser True para resultar em True"
      ],
      "metadata": {
        "id": "nG0o487Yl98R",
        "outputId": "41fa5e4d-ee51-49f9-a0d3-e3b4b9c48623",
        "colab": {
          "base_uri": "https://localhost:8080/"
        }
      },
      "id": "nG0o487Yl98R",
      "execution_count": 5,
      "outputs": [
        {
          "output_type": "stream",
          "name": "stdout",
          "text": [
            "False\n"
          ]
        }
      ]
    },
    {
      "cell_type": "code",
      "source": [
        "print(5 > 3 and 10 == 10)\n",
        "#true and true = True"
      ],
      "metadata": {
        "id": "wXuSEd5XmIie",
        "outputId": "939f01b8-63c1-4572-caa4-e657be5eefef",
        "colab": {
          "base_uri": "https://localhost:8080/"
        }
      },
      "id": "wXuSEd5XmIie",
      "execution_count": 6,
      "outputs": [
        {
          "output_type": "stream",
          "name": "stdout",
          "text": [
            "True\n"
          ]
        }
      ]
    },
    {
      "cell_type": "code",
      "source": [
        "print(8 < 2 and 5 == 5)\n",
        "#false and true = False"
      ],
      "metadata": {
        "id": "k56LviW-mnpX",
        "outputId": "0c87243a-f019-4d80-9c92-984a3c217271",
        "colab": {
          "base_uri": "https://localhost:8080/"
        }
      },
      "id": "k56LviW-mnpX",
      "execution_count": 7,
      "outputs": [
        {
          "output_type": "stream",
          "name": "stdout",
          "text": [
            "False\n"
          ]
        }
      ]
    },
    {
      "cell_type": "markdown",
      "source": [
        "Operador or (ou)"
      ],
      "metadata": {
        "id": "zoGN8J7unDMc"
      },
      "id": "zoGN8J7unDMc"
    },
    {
      "cell_type": "code",
      "source": [
        "print(True or True)#True uma das entradas sendo True ja da o resultado final como True"
      ],
      "metadata": {
        "id": "7HKQvtTDnGPM",
        "outputId": "e6b7fb1f-df1a-415e-a398-69792a856422",
        "colab": {
          "base_uri": "https://localhost:8080/"
        }
      },
      "id": "7HKQvtTDnGPM",
      "execution_count": 8,
      "outputs": [
        {
          "output_type": "stream",
          "name": "stdout",
          "text": [
            "True\n"
          ]
        }
      ]
    },
    {
      "cell_type": "code",
      "source": [
        "print(True or False)#True"
      ],
      "metadata": {
        "id": "cWHCYBY_natV",
        "outputId": "532fa2b0-06c6-4a9c-892e-e68726891366",
        "colab": {
          "base_uri": "https://localhost:8080/"
        }
      },
      "id": "cWHCYBY_natV",
      "execution_count": 9,
      "outputs": [
        {
          "output_type": "stream",
          "name": "stdout",
          "text": [
            "True\n"
          ]
        }
      ]
    },
    {
      "cell_type": "code",
      "source": [
        "print(False or True)#True"
      ],
      "metadata": {
        "id": "cz0tvoHGnkDs",
        "outputId": "98df1a18-0e98-4537-a58b-25305a24e241",
        "colab": {
          "base_uri": "https://localhost:8080/"
        }
      },
      "id": "cz0tvoHGnkDs",
      "execution_count": 10,
      "outputs": [
        {
          "output_type": "stream",
          "name": "stdout",
          "text": [
            "True\n"
          ]
        }
      ]
    },
    {
      "cell_type": "code",
      "source": [
        "print(False or False)#Aqaui temos False por ambas as entradas sao Falsas"
      ],
      "metadata": {
        "id": "cDUVwI5bnntE",
        "outputId": "c769678d-faed-4786-d9d5-a49204351097",
        "colab": {
          "base_uri": "https://localhost:8080/"
        }
      },
      "id": "cDUVwI5bnntE",
      "execution_count": 11,
      "outputs": [
        {
          "output_type": "stream",
          "name": "stdout",
          "text": [
            "False\n"
          ]
        }
      ]
    },
    {
      "cell_type": "code",
      "source": [
        "print(10 != 10 or 3 > 1)\n",
        "#false or true = true"
      ],
      "metadata": {
        "id": "UjLn20AtnwW0",
        "outputId": "c0fbde15-3f7c-4039-f6ac-66cc17030074",
        "colab": {
          "base_uri": "https://localhost:8080/"
        }
      },
      "id": "UjLn20AtnwW0",
      "execution_count": 12,
      "outputs": [
        {
          "output_type": "stream",
          "name": "stdout",
          "text": [
            "True\n"
          ]
        }
      ]
    },
    {
      "cell_type": "code",
      "source": [
        "print( \"gato\" == \"cachorro\" or 8 == 8)\n",
        "#false or true = true"
      ],
      "metadata": {
        "id": "bKI13DDboA-K",
        "outputId": "1b10b61c-dace-4b17-ee16-b6e1ab957ef3",
        "colab": {
          "base_uri": "https://localhost:8080/"
        }
      },
      "id": "bKI13DDboA-K",
      "execution_count": 13,
      "outputs": [
        {
          "output_type": "stream",
          "name": "stdout",
          "text": [
            "True\n"
          ]
        }
      ]
    },
    {
      "cell_type": "markdown",
      "source": [
        "Operador not (NÃO)"
      ],
      "metadata": {
        "id": "0ngeMV2LoPtu"
      },
      "id": "0ngeMV2LoPtu"
    },
    {
      "cell_type": "code",
      "source": [
        "print(not True)#O not e inversão entre True e Flase"
      ],
      "metadata": {
        "id": "GtPNyTK2oUQt",
        "outputId": "c177ce86-4f03-4695-d3d5-54389cf2308f",
        "colab": {
          "base_uri": "https://localhost:8080/"
        }
      },
      "id": "GtPNyTK2oUQt",
      "execution_count": 14,
      "outputs": [
        {
          "output_type": "stream",
          "name": "stdout",
          "text": [
            "False\n"
          ]
        }
      ]
    },
    {
      "cell_type": "code",
      "source": [
        "print(not False)#True"
      ],
      "metadata": {
        "id": "2dkVmeZzoeql",
        "outputId": "c4548dd2-99b7-47eb-d35c-103a18ef8ee9",
        "colab": {
          "base_uri": "https://localhost:8080/"
        }
      },
      "id": "2dkVmeZzoeql",
      "execution_count": 15,
      "outputs": [
        {
          "output_type": "stream",
          "name": "stdout",
          "text": [
            "True\n"
          ]
        }
      ]
    },
    {
      "cell_type": "code",
      "source": [
        "print(not (5 > 10))\n",
        "#True"
      ],
      "metadata": {
        "id": "_4sg6qJ3old3",
        "outputId": "f0fc9d1e-b4c3-47f1-d8ef-b58e4c7dd476",
        "colab": {
          "base_uri": "https://localhost:8080/"
        }
      },
      "id": "_4sg6qJ3old3",
      "execution_count": 16,
      "outputs": [
        {
          "output_type": "stream",
          "name": "stdout",
          "text": [
            "True\n"
          ]
        }
      ]
    },
    {
      "cell_type": "code",
      "source": [
        "print(not (10 == 10))\n",
        "#False"
      ],
      "metadata": {
        "id": "nK1c5oG-ozKp",
        "outputId": "879d2a78-ae68-4628-f3ec-12b21030ff66",
        "colab": {
          "base_uri": "https://localhost:8080/"
        }
      },
      "id": "nK1c5oG-ozKp",
      "execution_count": 17,
      "outputs": [
        {
          "output_type": "stream",
          "name": "stdout",
          "text": [
            "False\n"
          ]
        }
      ]
    },
    {
      "cell_type": "markdown",
      "source": [
        " Misturando Operadores"
      ],
      "metadata": {
        "id": "oBCP2ODPo55W"
      },
      "id": "oBCP2ODPo55W"
    },
    {
      "cell_type": "code",
      "source": [
        "print((True and False) or (not False))\n",
        "#false or true\n",
        "#false or true\n",
        "#final = true"
      ],
      "metadata": {
        "id": "5Ovu_sNBo7bT",
        "outputId": "969c08ef-bc4a-4fbf-f42b-ec6349f286bf",
        "colab": {
          "base_uri": "https://localhost:8080/"
        }
      },
      "id": "5Ovu_sNBo7bT",
      "execution_count": 18,
      "outputs": [
        {
          "output_type": "stream",
          "name": "stdout",
          "text": [
            "True\n"
          ]
        }
      ]
    },
    {
      "cell_type": "code",
      "source": [
        "print(not (True or False) and True)\n",
        "#not true and true\n",
        "#false and true\n",
        "#final = false"
      ],
      "metadata": {
        "id": "ZJJyUNsbqKxw",
        "outputId": "ea85ac72-25e9-4974-ee7c-340f8403cb3a",
        "colab": {
          "base_uri": "https://localhost:8080/"
        }
      },
      "id": "ZJJyUNsbqKxw",
      "execution_count": 19,
      "outputs": [
        {
          "output_type": "stream",
          "name": "stdout",
          "text": [
            "False\n"
          ]
        }
      ]
    },
    {
      "cell_type": "code",
      "source": [
        "print((5 > 3 and 10 < 8) or (3 != 3))\n",
        "#true and false or false\n",
        "#flase or false\n",
        "#final = false"
      ],
      "metadata": {
        "id": "kNBwmWH9qhNO",
        "outputId": "9653961b-c10e-4b7c-fb24-ab67b75f5a81",
        "colab": {
          "base_uri": "https://localhost:8080/"
        }
      },
      "id": "kNBwmWH9qhNO",
      "execution_count": 20,
      "outputs": [
        {
          "output_type": "stream",
          "name": "stdout",
          "text": [
            "False\n"
          ]
        }
      ]
    },
    {
      "cell_type": "code",
      "source": [
        "print( (not (\"python\" == \"java\")) and (10 / 2 == 5) )\n",
        "#not false and true\n",
        "#true and true\n",
        "#final = true"
      ],
      "metadata": {
        "id": "sBUy6e42q3j8",
        "outputId": "9268f087-9ee0-48ce-d5d8-c586fdc9365e",
        "colab": {
          "base_uri": "https://localhost:8080/"
        }
      },
      "id": "sBUy6e42q3j8",
      "execution_count": 21,
      "outputs": [
        {
          "output_type": "stream",
          "name": "stdout",
          "text": [
            "True\n"
          ]
        }
      ]
    }
  ],
  "metadata": {
    "kernelspec": {
      "display_name": "Python 3",
      "name": "python3"
    },
    "language_info": {
      "name": "python"
    },
    "required_libs": [],
    "colab": {
      "provenance": []
    }
  },
  "nbformat": 4,
  "nbformat_minor": 5
}